{
 "cells": [
  {
   "cell_type": "markdown",
   "metadata": {},
   "source": [
    "# MedMNIST Image Classification with TensorFlow"
   ]
  },
  {
   "cell_type": "markdown",
   "metadata": {},
   "source": [
    "By: Fumi Inaba \n",
    "\n",
    "## Context (Hypothetical User Story)\n",
    "Histopathology slide analysis is an integral part of many workflows when trying to assess the risk of a particular cancer patient and to determine their prognoses, cancer stage etc. \n",
    "Pathologists may look for specific cellular aberrations which correlate with degree of the disease or to make diagnoses. However, this is an extremely laborious task, and requires highly trained personnel (anatomical pathologists). An additional concern, is that cancer grading based on histopathology slides can be subjective, and differ from pathologist to pathologist. \n",
    "\n",
    "As part of the effort to alleviate these concerns, the director of a hospital would like to implement an automated data analysis pipeline to make histopathology analysis results more consistent, accurate and faster. This pipeline takes tile images from the histopathology slides, and will classify that image tile as one of '0': 'adipose', '1': 'background', '2': 'debris', '3': 'lymphocytes', '4': 'mucus', '5': 'smooth muscle', '6': 'normal colon mucosa', '7': 'cancer-associated stroma', '8': 'colorectal adenocarcinoma epithelium'. After the tile has been categorized, it will be passed down for further processing. \n",
    "\n",
    "## Objective\n",
    "The objective in this project, is to build an image classifier which can classify the image tiles into one of the aforementioned classes. The model should be very light-weight (shallow network) and will be compared using a nested cross-validation method. Hyperparameters will be tuned the same way.\n",
    "* Create a number of shallow Convolutional Neural Network (CNN) architectures to compare\n",
    "* Optimize the hyperparameters and model selection using nested cross validation \n",
    "* Evaluate the performance of the model\n"
   ]
  },
  {
   "cell_type": "code",
   "execution_count": null,
   "metadata": {},
   "outputs": [],
   "source": []
  },
  {
   "cell_type": "markdown",
   "metadata": {},
   "source": []
  }
 ],
 "metadata": {
  "kernelspec": {
   "display_name": "pathomics-tf",
   "language": "python",
   "name": "python3"
  },
  "language_info": {
   "name": "python",
   "version": "3.10.13"
  }
 },
 "nbformat": 4,
 "nbformat_minor": 2
}
